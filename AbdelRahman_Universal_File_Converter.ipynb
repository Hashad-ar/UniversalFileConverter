{
  "nbformat": 4,
  "nbformat_minor": 0,
  "metadata": {
    "colab": {
      "provenance": [],
      "authorship_tag": "ABX9TyO2e/vSqRja0OpYqI48O3nB",
      "include_colab_link": true
    },
    "kernelspec": {
      "name": "python3",
      "display_name": "Python 3"
    },
    "language_info": {
      "name": "python"
    }
  },
  "cells": [
    {
      "cell_type": "markdown",
      "metadata": {
        "id": "view-in-github",
        "colab_type": "text"
      },
      "source": [
        "<a href=\"https://colab.research.google.com/github/Hashad-ar/UniversalFileConverter/blob/main/AbdelRahman_Universal_File_Converter.ipynb\" target=\"_parent\"><img src=\"https://colab.research.google.com/assets/colab-badge.svg\" alt=\"Open In Colab\"/></a>"
      ]
    },
    {
      "cell_type": "code",
      "source": [
        "# !pip install gdown\n",
        "!gdown --id 1wsCS6P_ypt0QJ4I21lyBkNee6GR5_aqI\n",
        "!apt-get install unrar\n",
        "!unrar x \"/content/Universal File Converter.rar\""
      ],
      "metadata": {
        "colab": {
          "base_uri": "https://localhost:8080/"
        },
        "id": "l2t9WRNvGBYE",
        "outputId": "cdc7ccd0-17e1-4587-9084-2d1a158ed211"
      },
      "execution_count": null,
      "outputs": [
        {
          "output_type": "stream",
          "name": "stdout",
          "text": [
            "/usr/local/lib/python3.11/dist-packages/gdown/__main__.py:140: FutureWarning: Option `--id` was deprecated in version 4.3.1 and will be removed in 5.0. You don't need to pass it anymore to use a file ID.\n",
            "  warnings.warn(\n",
            "Downloading...\n",
            "From: https://drive.google.com/uc?id=1wsCS6P_ypt0QJ4I21lyBkNee6GR5_aqI\n",
            "To: /content/Universal File Converter.rar\n",
            "100% 2.66M/2.66M [00:00<00:00, 161MB/s]\n",
            "Reading package lists... Done\n",
            "Building dependency tree... Done\n",
            "Reading state information... Done\n",
            "unrar is already the newest version (1:6.1.5-1ubuntu0.1).\n",
            "0 upgraded, 0 newly installed, 0 to remove and 35 not upgraded.\n",
            "\n",
            "UNRAR 6.11 beta 1 freeware      Copyright (c) 1993-2022 Alexander Roshal\n",
            "\n",
            "\n",
            "Extracting from /content/Universal File Converter.rar\n",
            "\n",
            "Creating    Universal File Converter                                  OK\n",
            "Extracting  Universal File Converter/sample_640×426.png                  \b\b\b\b 20%\b\b\b\b\b  OK \n",
            "Extracting  Universal File Converter/sample_640×426.gif                  \b\b\b\b 27%\b\b\b\b\b  OK \n",
            "Extracting  Universal File Converter/sample_640×426.jpeg                 \b\b\b\b 30%\b\b\b\b\b  OK \n",
            "Extracting  Universal File Converter/sample_640×426.jpg                  \b\b\b\b 34%\b\b\b\b\b  OK \n",
            "Extracting  Universal File Converter/sample_640×426.bmp                  \b\b\b\b 54%\b\b\b\b\b  OK \n",
            "Extracting  Universal File Converter/sample1.webp                        \b\b\b\b 79%\b\b\b\b\b  OK \n",
            "Extracting  Universal File Converter/sample_640×426.tiff                 \b\b\b\b 99%\b\b\b\b\b  OK \n",
            "All OK\n"
          ]
        }
      ]
    },
    {
      "cell_type": "markdown",
      "source": [
        "# Project Folder Structure\n",
        "\n",
        "```\n",
        "universal_converter/\n",
        "├── converter/\n",
        "│   ├── __init__.py\n",
        "│   ├── detect.py\n",
        "│   ├── mapping.py\n",
        "│   ├── engines/\n",
        "│   │   ├── __init__.py\n",
        "│   │   ├── base.py\n",
        "│   │   ├── image_converter.py\n",
        "│   │   ├── document_converter.py\n",
        "│   │   ├── audio_converter.py\n",
        "│   │   └── video_converter.py\n",
        "│   └── ui.py\n",
        "├── main.py\n",
        "├── requirements.txt\n",
        "└── setup.py\n",
        "\n",
        "```"
      ],
      "metadata": {
        "id": "V366Bgi2lHOo"
      }
    },
    {
      "cell_type": "markdown",
      "source": [
        "# Creating Folders for converted files"
      ],
      "metadata": {
        "id": "28KKOoqSLTXj"
      }
    },
    {
      "cell_type": "code",
      "source": [
        "import os\n",
        "\n",
        "# Base path\n",
        "base_path = \"Universal File Converter/Converted Files\"\n",
        "\n",
        "# Subfolders to create\n",
        "subfolders = [\"Images\", \"Videos\", \"Documents\", \"Audio\"]\n",
        "\n",
        "# Create each folder\n",
        "for subfolder in subfolders:\n",
        "    folder_path = os.path.join(base_path, subfolder)\n",
        "    os.makedirs(folder_path, exist_ok=True)"
      ],
      "metadata": {
        "id": "6HjVLk0jLAnH"
      },
      "execution_count": null,
      "outputs": []
    },
    {
      "cell_type": "code",
      "execution_count": null,
      "metadata": {
        "colab": {
          "base_uri": "https://localhost:8080/"
        },
        "id": "XmR-vqCtkhja",
        "outputId": "ccb894a8-743e-4d24-eb94-a7ccb0d2f094"
      },
      "outputs": [
        {
          "name": "stdout",
          "output_type": "stream",
          "text": [
            "Enter the path of the file to convert: /content/Universal File Converter/sample_640×426.png\n"
          ]
        }
      ],
      "source": [
        "# asking the file location from user\n",
        "inputFilePath = input(\"Enter the path of the file to convert: \")\n",
        "\n",
        "# detecting file extension\n",
        "def extensionDetector(inputFilePath):\n",
        "  \"\"\"\n",
        "  This function takes the input file path and returns the file extension\n",
        "  \"\"\"\n",
        "  splittedPath = inputFilePath.split(\".\")\n",
        "  inputFileExtension = splittedPath[1]\n",
        "  return splittedPath, inputFileExtension"
      ]
    },
    {
      "cell_type": "code",
      "source": [
        "splittedPath, inputFileExtension = extensionDetector(inputFilePath)\n",
        "print(inputFileExtension)"
      ],
      "metadata": {
        "colab": {
          "base_uri": "https://localhost:8080/"
        },
        "id": "0S8C7ij9yc01",
        "outputId": "6be79b1b-e2df-47dc-bfee-5d2797684a7c"
      },
      "execution_count": null,
      "outputs": [
        {
          "output_type": "stream",
          "name": "stdout",
          "text": [
            "png\n"
          ]
        }
      ]
    },
    {
      "cell_type": "code",
      "source": [
        "# List of image formats\n",
        "imageFormats = [\"png\", \"jpg\", \"jpeg\", \"gif\", \"tiff\", \"tif\", \"bmp\", \"webp\"]\n",
        "docFormats = [\"docx\", \"doc\", \"pdf\", \"docm\", \"txt\", \"odt\", \"rtf\", \"ppt\", \"pptx\", \"odp\"]\n",
        "audioFormats = [\"mp3\", \"wav\", \"ogg\", \"flac\", \"m4a\", \"wma\", \"aac\"]\n",
        "videoFormats = [\"mp4\", \"avi\", \"mkv\", \"mov\", \"wmv\", \"flv\", \"webm\"]\n",
        "# TODO: data file extensions like xls, xlsx, csv, json, ...\n",
        "\n",
        "fileGroups = {\n",
        "  \"image\": imageFormats,\n",
        "  \"document\": docFormats,\n",
        "  \"audio\": audioFormats,\n",
        "  \"video\": videoFormats\n",
        "}"
      ],
      "metadata": {
        "id": "RDRKfLNW4wU-"
      },
      "execution_count": null,
      "outputs": []
    },
    {
      "cell_type": "code",
      "source": [
        "def groupify(fileGroups, inputFileExtension, group):\n",
        "  \"\"\"\n",
        "  This function takes the input file extension and group and creates\n",
        "  the suitable destination file extension list\n",
        "  \"\"\"\n",
        "  destinationGroup = fileGroups[group].copy()\n",
        "  destinationGroup.remove(inputFileExtension)\n",
        "  return destinationGroup"
      ],
      "metadata": {
        "id": "2sQtLWIfaecQ"
      },
      "execution_count": null,
      "outputs": []
    },
    {
      "cell_type": "code",
      "source": [
        "# fileExtension in imageFormats\n",
        "# Group file extension into its own group, e.g. image, video, doc, etc\n",
        "# group = \"image\"\n",
        "# initializing group\n",
        "def mapExtensions(fileGroups, inputFileExtension):\n",
        "  \"\"\"\n",
        "  This function takes the input file extension and group and creates\n",
        "  the suitable destination file extension list\n",
        "  \"\"\"\n",
        "  group = \"\"\n",
        "  destinationGroup = \"\"\n",
        "  if inputFileExtension in imageFormats:\n",
        "    inputGroup = \"image\"\n",
        "    destinationGroup = groupify(fileGroups, inputFileExtension, inputGroup)\n",
        "  elif inputFileExtension in docFormats:\n",
        "    inputGroup = \"document\"\n",
        "    destinationGroup = groupify(fileGroups, inputFileExtension, inputGroup)\n",
        "  elif inputFileExtension in audioFormats:\n",
        "    inputGroup = \"audio\"\n",
        "    destinationGroup = groupify(fileGroups, inputFileExtension, inputGroup)\n",
        "  elif inputFileExtension in videoFormats:\n",
        "    inputGroup = \"video\"\n",
        "    destinationGroup = groupify(fileGroups, inputFileExtension, inputGroup)\n",
        "  else:\n",
        "    print(\"File type not supported.\")\n",
        "\n",
        "  print(f\"Group: {inputGroup}\")\n",
        "  print(f\"Destination Group: {destinationGroup}\")\n",
        "\n",
        "  return inputGroup, destinationGroup"
      ],
      "metadata": {
        "id": "ZOX9OEX2Ulfj"
      },
      "execution_count": null,
      "outputs": []
    },
    {
      "cell_type": "code",
      "source": [
        "inputGroup, destinationGroup = mapExtensions(fileGroups, inputFileExtension)"
      ],
      "metadata": {
        "colab": {
          "base_uri": "https://localhost:8080/"
        },
        "id": "0OvmLgLGORtK",
        "outputId": "eea2ac34-9843-48ec-80eb-9b8be7595567"
      },
      "execution_count": null,
      "outputs": [
        {
          "output_type": "stream",
          "name": "stdout",
          "text": [
            "Group: image\n",
            "Destination Group: ['jpg', 'jpeg', 'gif', 'tiff', 'tif', 'bmp', 'webp']\n"
          ]
        }
      ]
    },
    {
      "cell_type": "code",
      "source": [
        "# Asking user to choose the output file format\n",
        "print(\"Select the format you would like to convert to: \")\n",
        "\n",
        "for i, extension in enumerate(destinationGroup):\n",
        "  print(f\"{i+1}. {extension}\")\n",
        "\n",
        "selectedFormatIndex = int(input(\"\\nSelect an option [number]: \"))\n",
        "\n",
        "selectedFormat = destinationGroup[selectedFormatIndex - 1]\n",
        "print(f\"Selected format: {selectedFormat}\")"
      ],
      "metadata": {
        "colab": {
          "base_uri": "https://localhost:8080/"
        },
        "id": "bUR8jXhAGO78",
        "outputId": "8872b3e2-fc62-4307-d542-1885947c71f7"
      },
      "execution_count": null,
      "outputs": [
        {
          "output_type": "stream",
          "name": "stdout",
          "text": [
            "Select the format you would like to convert to: \n",
            "1. jpg\n",
            "2. jpeg\n",
            "3. gif\n",
            "4. tiff\n",
            "5. tif\n",
            "6. bmp\n",
            "7. webp\n",
            "\n",
            "Select an option [number]: 6\n",
            "Selected format: bmp\n"
          ]
        }
      ]
    },
    {
      "cell_type": "code",
      "source": [
        "from PIL import Image\n",
        "\n",
        "def image_converter(input_path, output_path, extension):\n",
        "    \"\"\"\n",
        "    Opens an image from `input_path` and saves it as the desired format to `output_path`. The function also asks for desired extension.\n",
        "    \"\"\"\n",
        "    with Image.open(input_path) as img:\n",
        "        img.save(\n",
        "        output_path,\n",
        "        format=extension,\n",
        "        quality=100,        # max quality (minimal compression)\n",
        "        subsampling=0,      # disable chroma subsampling\n",
        "        optimize=True      # try to make file smaller without quality loss\n",
        "      )\n",
        "\n",
        "# TODO:\n",
        "# 1. Update the funciton and let the user decide on the quality of the output file\n",
        "# Eithter through slider or different options\n"
      ],
      "metadata": {
        "id": "2YXcuVMzIu3P"
      },
      "execution_count": null,
      "outputs": []
    },
    {
      "cell_type": "code",
      "source": [
        "# Split the path again based on the \"/\" and grab the last part as the file name\n",
        "fileName = splittedPath[0].split(\"/\")[-1]\n",
        "\n",
        "# Ask the user weather they want to save the converted file to default path or desired path\n",
        "print(\"Please choose weather to save converted file to default path or specific path:\")\n",
        "selectedOption = \"\" # initializing\n",
        "\n",
        "while (selectedOption != \"1\" or selectedOption != \"2\"):\n",
        "  selectedOption = input(\"  [1] Default Path\\n  [2] Specific Path\\n\")\n",
        "  # Check user input and if its default location, depending on the input file type, save it to suitable folder\n",
        "  if selectedOption == \"1\":\n",
        "    # If the user selected default, using the inputGroup, save the output file into corresponding direction\n",
        "    if inputGroup == \"image\":\n",
        "      outputFolderPath = \"Universal File Converter/Converted Files/Images\"\n",
        "    elif inputGroup == \"video\":\n",
        "      outputFolderPath = \"Universal File Converter/Converted Files/Videos\"\n",
        "    elif inputGroup == \"document\":\n",
        "      outputFolderPath = \"Universal File Converter/Converted Files/Documents\"\n",
        "    elif inputGroup == \"audio\":\n",
        "      outputFolderPath = \"Universal File Converter/Converted Files/Audio\"\n",
        "    break\n",
        "  elif selectedOption == \"2\":\n",
        "    #  If user selected specific path, ask for the path\n",
        "    outputFolderPath = input(\"Enter the path to save the converted file: \")\n",
        "    break\n",
        "  else:\n",
        "    print(\"Error: Incorrect option was selected. Please select a correct option.\")\n",
        "\n",
        "fullSavedPath = outputFolderPath + fileName + \"_CONVERTED.\" + selectedFormat\n",
        "\n",
        "# Mapping JPG to JPEG as they are both the same thing and only JPEG is accepted by PIL not JPG\n",
        "finalFormat = selectedFormat\n",
        "if selectedFormat.lower() == \"jpg\":\n",
        "  finalFormat = \"jpeg\"\n",
        "\n",
        "if selectedFormat.lower() == \"tif\":\n",
        "  finalFormat = \"tiff\"\n",
        "\n",
        "# print(fullSavedPath)\n",
        "image_converter(inputFilePath, fullSavedPath, finalFormat)\n",
        "\n",
        "print(\"File Conversion is completed!\")\n",
        "print(f\"File saved to {fullSavedPath}.\")"
      ],
      "metadata": {
        "colab": {
          "base_uri": "https://localhost:8080/"
        },
        "id": "y0PCQD0cKF2v",
        "outputId": "92449299-212b-4914-edf4-b2366e12ae68"
      },
      "execution_count": 27,
      "outputs": [
        {
          "output_type": "stream",
          "name": "stdout",
          "text": [
            "Please choose weather to save converted file to default path or specific path:\n",
            "  [1] Default Path\n",
            "  [2] Specific Path\n",
            "5\n",
            "Error: Incorrect option was selected. Please select a correct option.\n",
            "  [1] Default Path\n",
            "  [2] Specific Path\n",
            "562\n",
            "Error: Incorrect option was selected. Please select a correct option.\n",
            "  [1] Default Path\n",
            "  [2] Specific Path\n",
            "6564\n",
            "Error: Incorrect option was selected. Please select a correct option.\n",
            "  [1] Default Path\n",
            "  [2] Specific Path\n",
            "0\n",
            "Error: Incorrect option was selected. Please select a correct option.\n",
            "  [1] Default Path\n",
            "  [2] Specific Path\n",
            " \n",
            "Error: Incorrect option was selected. Please select a correct option.\n",
            "  [1] Default Path\n",
            "  [2] Specific Path\n",
            "1\n",
            "File Conversion is completed!\n",
            "File saved to Universal File Converter/Converted Files/Imagessample_640×426_CONVERTED.bmp.\n"
          ]
        }
      ]
    },
    {
      "cell_type": "code",
      "source": [
        "\n",
        "# TODO:\n",
        "# 1. Test the program on all the available extenions - unittest\n",
        "#   *. Strategy: Each input image should be converted to all the available suitable file formats\n",
        "#   *. Put messages for successful or unsuccessful runs\n",
        "#   *. Use Try and Exept to handle errors and avoid crashing the program"
      ],
      "metadata": {
        "id": "53j9B_SxLTAa"
      },
      "execution_count": null,
      "outputs": []
    },
    {
      "cell_type": "code",
      "source": [
        "# Image: PIL\n",
        "# Audio: pydub\n",
        "# Video: ffmpeg\n",
        "# Document: `pdf2docx`, `docx`, `python-docx`, PyMuPDF"
      ],
      "metadata": {
        "id": "1FM__5vX9rF0"
      },
      "execution_count": null,
      "outputs": []
    },
    {
      "cell_type": "markdown",
      "source": [
        "\n",
        "\n",
        "---\n",
        "\n"
      ],
      "metadata": {
        "id": "ujZ5NE9vSnUh"
      }
    },
    {
      "cell_type": "code",
      "source": [
        "# Completed Tasks:\n",
        "# 2. search and find file converter package/s✅\n",
        "# 3. begin by implementing the converter for images✅\n",
        "# 4. Use the function and convert to desired format✅\n",
        "# 5. Save the output file✅\n",
        "# 1. Create Default Path for Converted files✅\n",
        "# Ask the user weather they want to save the converted file to default path or desired path"
      ],
      "metadata": {
        "id": "wWcwJRkkZ_j8"
      },
      "execution_count": null,
      "outputs": []
    },
    {
      "cell_type": "markdown",
      "source": [
        "\n",
        "\n",
        "---\n",
        "\n",
        "\n",
        "# Quality Testing on Images"
      ],
      "metadata": {
        "id": "DQ8XP02DJzww"
      }
    },
    {
      "cell_type": "code",
      "metadata": {
        "id": "ad10d165"
      },
      "source": [
        "# # Install scikit-image if you haven't already\n",
        "# # !pip install scikit-image\n",
        "\n",
        "# import cv2\n",
        "# from skimage.metrics import structural_similarity as ssim\n",
        "# import numpy as np\n",
        "# from PIL import Image # Import Pillow\n",
        "\n",
        "# # --- Placeholder image paths ---\n",
        "# # Replace these with the actual paths to your original and processed images\n",
        "# original_image_path = \"/content/Universal File Converter/sample1.webp\"  # Path to your original image\n",
        "# processed_image_path = \"/content/sample1.jpg\" # Path to your processed image (from previous conversion)\n",
        "# # -------------------------------\n",
        "\n",
        "# # Load the original image using Pillow and convert to NumPy array\n",
        "# try:\n",
        "#     original_image_pil = Image.open(original_image_path)\n",
        "#     # Convert to RGB to ensure consistent channel order for cv2\n",
        "#     original_image = cv2.cvtColor(np.array(original_image_pil), cv2.COLOR_RGB2BGR)\n",
        "# except FileNotFoundError:\n",
        "#     print(f\"Error: Original image not found at {original_image_path}\")\n",
        "#     original_image = None # Set to None to indicate loading failure\n",
        "# except Exception as e:\n",
        "#     print(f\"Error loading original image with Pillow: {e}\")\n",
        "#     original_image = None\n",
        "\n",
        "\n",
        "# # Load the processed image using cv2\n",
        "# processed_image = cv2.imread(processed_image_path)\n",
        "\n",
        "\n",
        "# # Check if images were loaded successfully\n",
        "# if original_image is None:\n",
        "#     print(\"Original image loading failed. Cannot proceed with SSIM calculation.\")\n",
        "# elif processed_image is None:\n",
        "#     print(f\"Error: Could not load processed image from {processed_image_path}\")\n",
        "# else:\n",
        "#     # Resize the processed image to match the original image dimensions if they are different\n",
        "#     if original_image.shape != processed_image.shape:\n",
        "#         processed_image_resized = cv2.resize(processed_image, (original_image.shape[1], original_image.shape[0]))\n",
        "#     else:\n",
        "#         processed_image_resized = processed_image # No resizing needed\n",
        "\n",
        "#     # Convert images to grayscale (SSIM is typically calculated on grayscale images)\n",
        "#     original_gray = cv2.cvtColor(original_image, cv2.COLOR_BGR2GRAY)\n",
        "#     processed_gray = cv2.cvtColor(processed_image_resized, cv2.COLOR_BGR2GRAY)\n",
        "\n",
        "#     # Compute SSIM between the two images\n",
        "#     # data_range is the range of pixel values (255 for 8-bit grayscale images)\n",
        "#     ssim_index, _ = ssim(original_gray, processed_gray, full=True, data_range=processed_gray.max() - processed_gray.min())\n",
        "\n",
        "\n",
        "#     print(f\"The Structural Similarity Index (SSIM) between the original and processed image is: {ssim_index}\")\n",
        "\n",
        "#     # You can interpret the SSIM value:\n",
        "#     # Close to 1.0: Images are very similar in structure and quality\n",
        "#     # Closer to 0: Images are less similar\n",
        "#     # Negative values: Very little similarity (unlikely for slightly processed images)\n",
        "\n",
        "#     # You can set a threshold to consider images as having \"similar quality\".\n",
        "#     # This threshold is subjective and depends on your application.\n",
        "#     # For example:\n",
        "#     # similarity_threshold = 0.9 # Example threshold\n",
        "#     # if ssim_index >= similarity_threshold:\n",
        "#     #     print(\"The images have similar quality.\")\n",
        "#     # else:\n",
        "#     #     print(\"The images do not have similar quality based on the threshold.\")"
      ],
      "execution_count": null,
      "outputs": []
    }
  ]
}