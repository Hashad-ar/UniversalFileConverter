{
  "nbformat": 4,
  "nbformat_minor": 0,
  "metadata": {
    "colab": {
      "provenance": [],
      "include_colab_link": true
    },
    "kernelspec": {
      "name": "python3",
      "display_name": "Python 3"
    },
    "language_info": {
      "name": "python"
    }
  },
  "cells": [
    {
      "cell_type": "markdown",
      "metadata": {
        "id": "view-in-github",
        "colab_type": "text"
      },
      "source": [
        "<a href=\"https://colab.research.google.com/github/Hashad-ar/UniversalFileConverter/blob/main/AbdelRahman_Universal_File_Converter.ipynb\" target=\"_parent\"><img src=\"https://colab.research.google.com/assets/colab-badge.svg\" alt=\"Open In Colab\"/></a>"
      ]
    },
    {
      "cell_type": "markdown",
      "source": [
        "# Project Folder Structure\n",
        "\n",
        "```\n",
        "universal_converter/\n",
        "├── converter/\n",
        "│   ├── __init__.py\n",
        "│   ├── detect.py\n",
        "│   ├── mapping.py\n",
        "│   ├── engines/\n",
        "│   │   ├── __init__.py\n",
        "│   │   ├── base.py\n",
        "│   │   ├── image_converter.py\n",
        "│   │   ├── document_converter.py\n",
        "│   │   ├── audio_converter.py\n",
        "│   │   └── video_converter.py\n",
        "│   └── ui.py\n",
        "├── main.py\n",
        "├── requirements.txt\n",
        "└── setup.py\n",
        "\n",
        "```"
      ],
      "metadata": {
        "id": "V366Bgi2lHOo"
      }
    },
    {
      "cell_type": "code",
      "execution_count": null,
      "metadata": {
        "colab": {
          "base_uri": "https://localhost:8080/"
        },
        "id": "XmR-vqCtkhja",
        "outputId": "71a7e218-20c5-4749-e186-67e31afc02a9"
      },
      "outputs": [
        {
          "name": "stdout",
          "output_type": "stream",
          "text": [
            "Enter the path of the file to convert: /content/blood_btn.png\n"
          ]
        }
      ],
      "source": [
        "# asking the file location from user\n",
        "inputFilePath = input(\"Enter the path of the file to convert: \")\n",
        "\n",
        "# detecting file extension\n",
        "splittedPath = inputFilePath.split(\".\")\n",
        "inputFileExtension = splittedPath[1]"
      ]
    },
    {
      "cell_type": "code",
      "source": [
        "print(inputFileExtension)"
      ],
      "metadata": {
        "colab": {
          "base_uri": "https://localhost:8080/"
        },
        "id": "0S8C7ij9yc01",
        "outputId": "0eb3a6bc-35cf-48f5-b754-5d51352b53c5"
      },
      "execution_count": null,
      "outputs": [
        {
          "output_type": "stream",
          "name": "stdout",
          "text": [
            "png\n"
          ]
        }
      ]
    },
    {
      "cell_type": "code",
      "source": [
        "# List of image formats\n",
        "imageFormats = [\"png\", \"jpg\", \"jpeg\", \"gif\", \"tiff\", \"tif\", \"bmp\", \"webp\"]\n",
        "docFormats = [\"docx\", \"doc\", \"pdf\", \"docm\", \"txt\", \"odt\", \"rtf\", \"ppt\", \"pptx\", \"odp\"]\n",
        "audioFormats = [\"mp3\", \"wav\", \"ogg\", \"flac\", \"m4a\", \"wma\", \"aac\"]\n",
        "videoFormats = [\"mp4\", \"avi\", \"mkv\", \"mov\", \"wmv\", \"flv\", \"webm\"]\n",
        "# TODO: data file extensions like xls, xlsx, csv, json, ..."
      ],
      "metadata": {
        "id": "RDRKfLNW4wU-"
      },
      "execution_count": null,
      "outputs": []
    },
    {
      "cell_type": "code",
      "source": [
        "fileGroups = {\n",
        "  \"image\": imageFormats,\n",
        "  \"document\": docFormats,\n",
        "  \"audio\": audioFormats,\n",
        "  \"video\": videoFormats\n",
        "}"
      ],
      "metadata": {
        "id": "EPq01mIMcitO"
      },
      "execution_count": null,
      "outputs": []
    },
    {
      "cell_type": "code",
      "source": [
        "def groupify(fileGroups, inputFileExtension, group):\n",
        "  \"\"\"\n",
        "  This function takes the input file extension and group and creates\n",
        "  the suitable destination file extension list\n",
        "  \"\"\"\n",
        "  destinationGroup = fileGroups[group].copy()\n",
        "  destinationGroup.remove(inputFileExtension)\n",
        "  return destinationGroup"
      ],
      "metadata": {
        "id": "2sQtLWIfaecQ"
      },
      "execution_count": null,
      "outputs": []
    },
    {
      "cell_type": "code",
      "source": [
        "# fileExtension in imageFormats\n",
        "# Group file extension into its own group, e.g. image, video, doc, etc\n",
        "# group = \"image\"\n",
        "# initializing group\n",
        "\n",
        "group = \"\"\n",
        "destinationGroup = \"\"\n",
        "\n",
        "if inputFileExtension in imageFormats:\n",
        "  inputGroup = \"image\"\n",
        "  destinationGroup = groupify(fileGroups, inputFileExtension, inputGroup)\n",
        "elif inputFileExtension in docFormats:\n",
        "  inputGroup = \"document\"\n",
        "  destinationGroup = groupify(fileGroups, inputFileExtension, inputGroup)\n",
        "elif inputFileExtension in audioFormats:\n",
        "  inputGroup = \"audio\"\n",
        "  destinationGroup = groupify(fileGroups, inputFileExtension, inputGroup)\n",
        "elif inputFileExtension in videoFormats:\n",
        "  inputGroup = \"video\"\n",
        "  destinationGroup = groupify(fileGroups, inputFileExtension, inputGroup)\n",
        "else:\n",
        "\tprint(\"File type not supported.\")\n",
        "\n",
        "print(f\"Group: {inputGroup}\")\n",
        "print(f\"Destination Group: {destinationGroup}\")"
      ],
      "metadata": {
        "colab": {
          "base_uri": "https://localhost:8080/"
        },
        "id": "ZOX9OEX2Ulfj",
        "outputId": "284e3603-5119-426d-91e2-c36fb5962dd2"
      },
      "execution_count": null,
      "outputs": [
        {
          "output_type": "stream",
          "name": "stdout",
          "text": [
            "Group: image\n",
            "Destination Group: ['jpg', 'jpeg', 'gif', 'tiff', 'tif', 'bmp', 'webp']\n"
          ]
        }
      ]
    },
    {
      "cell_type": "code",
      "source": [
        "# Asking user to choose the output file format\n",
        "print(\"Select the format you would like to convert to: \")\n",
        "\n",
        "for i, extension in enumerate(destinationGroup):\n",
        "  print(f\"{i+1}. {extension}\")\n",
        "\n",
        "selectedFormatIndex = int(input(\"\\nSelect an option [number]: \"))\n",
        "\n",
        "selectedFormat = destinationGroup[selectedFormatIndex - 1]\n",
        "print(f\"Selected format: {selectedFormat}\")"
      ],
      "metadata": {
        "colab": {
          "base_uri": "https://localhost:8080/"
        },
        "id": "bUR8jXhAGO78",
        "outputId": "afbb0080-60d7-4734-d866-bb76148bd42b"
      },
      "execution_count": null,
      "outputs": [
        {
          "output_type": "stream",
          "name": "stdout",
          "text": [
            "Select the format you would like to convert to: \n",
            "1. jpg\n",
            "2. jpeg\n",
            "3. gif\n",
            "4. tiff\n",
            "5. tif\n",
            "6. bmp\n",
            "7. webp\n",
            "\n",
            "Select an option [number]: 1\n",
            "Selected format: jpg\n"
          ]
        }
      ]
    },
    {
      "cell_type": "code",
      "source": [
        "from PIL import Image\n",
        "\n",
        "def image_converter(input_path, output_path, extension):\n",
        "    \"\"\"\n",
        "    Opens an image from `input_path` and saves it as the desired format to `output_path`. The function also asks for desired extension.\n",
        "    \"\"\"\n",
        "    with Image.open(input_path) as img:\n",
        "        img.save(\n",
        "        output_path,\n",
        "        format=extension,\n",
        "        quality=100,        # max quality (minimal compression)\n",
        "        subsampling=0,      # disable chroma subsampling\n",
        "        optimize=True      # try to make file smaller without quality loss\n",
        "      )\n",
        "\n",
        "# TODO:\n",
        "# 1. Update the funciton and let the user decide on the quality of the output file\n",
        "# Eithter through slider or different options\n"
      ],
      "metadata": {
        "id": "2YXcuVMzIu3P"
      },
      "execution_count": null,
      "outputs": []
    },
    {
      "cell_type": "code",
      "source": [
        "# Split the path again based on the \"/\" and grab the last part as the file name\n",
        "fileName = splittedPath[0].split(\"/\")[-1]\n",
        "\n",
        "outputFolderPath = input(\"Enter the path to save the converted file: \")\n",
        "\n",
        "fullSavedPath = outputFolderPath + fileName + \".\" + selectedFormat\n",
        "\n",
        "# Mapping JPG to JPEG as they are both the same thing and only JPEG is accepted by PIL not JPG\n",
        "finalFormat = selectedFormat\n",
        "if selectedFormat.lower() == \"jpg\":\n",
        "  finalFormat = \"jpeg\"\n",
        "\n",
        "# print(fullSavedPath)\n",
        "image_converter(inputFilePath, fullSavedPath, finalFormat)\n",
        "\n",
        "print(\"File Conversion is completed!\")\n",
        "print(f\"File saved to {fullSavedPath}.\")"
      ],
      "metadata": {
        "colab": {
          "base_uri": "https://localhost:8080/"
        },
        "id": "y0PCQD0cKF2v",
        "outputId": "bbd368fe-f094-4b05-bd28-897e8fc8e167"
      },
      "execution_count": null,
      "outputs": [
        {
          "output_type": "stream",
          "name": "stdout",
          "text": [
            "Enter the path to save the converted file: /content/\n",
            "/content/blood_btn.jpg\n",
            "File Conversion is completed!\n",
            "File saved to /content/blood_btn.jpg.\n"
          ]
        }
      ]
    },
    {
      "cell_type": "code",
      "source": [
        "\n",
        "# TODO:\n",
        "# 1. Let user choose between saving to default location or specific location\n",
        "# 2. Test the program on all the available extenions - unittest"
      ],
      "metadata": {
        "id": "53j9B_SxLTAa"
      },
      "execution_count": null,
      "outputs": []
    },
    {
      "cell_type": "code",
      "source": [
        "# Image: PIL\n",
        "# Audio: pydub\n",
        "# Video: ffmpeg\n",
        "# Document: `pdf2docx`, `docx`, `python-docx`, PyMuPDF"
      ],
      "metadata": {
        "id": "1FM__5vX9rF0"
      },
      "execution_count": null,
      "outputs": []
    },
    {
      "cell_type": "markdown",
      "source": [
        "# Document Conversion (PDF, Word, etc.)\n",
        "\n",
        "| **Format**    | **Recommended Packages**              | **Description**                                 |\n",
        "| ------------- | ------------------------------------ | --------------------------------------------- |\n",
        "| **PDF ↔ DOCX** | `pdf2docx`, `docx`, `python-docx`    | Convert PDFs to Word documents and vice versa. |\n",
        "| **Any → PDF**  | `reportlab`, `xhtml2pdf`, `weasyprint` | Generate PDFs from various formats (HTML, text). |\n",
        "| **Word → PDF** | `comtypes.client` (Windows only)     | MS Word automation via COM (Windows only).     |\n",
        "| **OCR Support** | `pytesseract`, `pdfplumber`         | Extract text from scanned PDFs and images.     |\n",
        "\n",
        "---\n",
        "\n",
        "# Image Conversion (JPG, PNG, GIF, etc.)\n",
        "\n",
        "| **Format**             | **Recommended Packages** | **Description**                                |\n",
        "| --------------------- | ------------------------ | -------------------------------------------- |\n",
        "| **General Image Formats** | `Pillow` (PIL)         | Convert and process images (JPG, PNG, BMP, etc.). |\n",
        "| **GIF (animated/static)** | `imageio`, `Pillow`    | Read/write GIFs including animations.         |\n",
        "| **HEIC/HEIF**         | `pyheif`                 | For HEIF image support (iOS formats).         |\n",
        "\n",
        "---\n",
        "\n",
        "# Audio Conversion (MP3, WAV, etc.)\n",
        "\n",
        "| **Format**         | **Recommended Packages**   | **Description**                            |\n",
        "| ------------------ | -------------------------- | ---------------------------------------- |\n",
        "| **Audio Conversion** | `pydub`, `ffmpeg-python` | Convert between MP3, WAV, FLAC, AAC, etc. |\n",
        "| **Metadata Editing** | `mutagen`                | Edit metadata for MP3s and other formats. |\n",
        "\n",
        "---\n",
        "\n",
        "# Video Conversion (MP4, MOV, AVI, etc.)\n",
        "\n",
        "| **Format**         | **Recommended Packages**                     | **Description**                           |\n",
        "| ------------------ | ------------------------------------------- | --------------------------------------- |\n",
        "| **Video Processing** | `moviepy`, `ffmpeg-python`, `opencv-python` | Convert and process video files.        |\n",
        "| **Transcoding**    | `ffmpeg-python`                             | Wraps FFmpeg for format and codec conversion. |\n",
        "\n",
        "---\n",
        "\n",
        "# Archive/Compression Handling\n",
        "\n",
        "| **Format**    | **Recommended Packages**     | **Description**                      |\n",
        "| ------------- | ---------------------------- | ---------------------------------- |\n",
        "| **ZIP, RAR, 7Z** | `pyzipper`, `patool`, `py7zr` | Extract and convert compressed files. |\n",
        "\n",
        "---\n",
        "\n",
        "# Universal Tooling (Multiple Types)\n",
        "\n",
        "| **Use**              | **Recommended Packages**              | **Description**                              |\n",
        "| ------------------- | ------------------------------------ | ------------------------------------------ |\n",
        "| **File format detection** | `python-magic`, `filetype`      | Auto-detect file type regardless of extension. |\n",
        "| **Drag/drop UI**     | `Tkinter`, `PyQt5`, `customtkinter`  | Build a GUI for selecting/converting files. |\n",
        "| **CLI Tool**         | `argparse`, `click`, `typer`         | Allow command-line usage for your converter. |\n"
      ],
      "metadata": {
        "id": "ddbMAZ70CaiJ"
      }
    },
    {
      "cell_type": "code",
      "source": [
        "# TODO:\n",
        "# 2. search and find file converter package/s✅\n",
        "# 3. begin by implementing the converter for images✅\n",
        "# 4. Use the function and convert to desired format✅\n",
        "# 5. Save the output file✅"
      ],
      "metadata": {
        "id": "wWcwJRkkZ_j8"
      },
      "execution_count": null,
      "outputs": []
    }
  ]
}