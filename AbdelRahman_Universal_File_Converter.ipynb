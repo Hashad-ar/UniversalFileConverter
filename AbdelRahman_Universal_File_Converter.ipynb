{
  "nbformat": 4,
  "nbformat_minor": 0,
  "metadata": {
    "colab": {
      "provenance": [],
      "include_colab_link": true
    },
    "kernelspec": {
      "name": "python3",
      "display_name": "Python 3"
    },
    "language_info": {
      "name": "python"
    }
  },
  "cells": [
    {
      "cell_type": "markdown",
      "metadata": {
        "id": "view-in-github",
        "colab_type": "text"
      },
      "source": [
        "<a href=\"https://colab.research.google.com/github/Hashad-ar/UniversalFileConverter/blob/main/AbdelRahman_Universal_File_Converter.ipynb\" target=\"_parent\"><img src=\"https://colab.research.google.com/assets/colab-badge.svg\" alt=\"Open In Colab\"/></a>"
      ]
    },
    {
      "cell_type": "markdown",
      "source": [
        "# Project Folder Structure\n",
        "\n",
        "```\n",
        "universal_converter/\n",
        "├── converter/\n",
        "│   ├── __init__.py\n",
        "│   ├── detect.py\n",
        "│   ├── mapping.py\n",
        "│   ├── engines/\n",
        "│   │   ├── __init__.py\n",
        "│   │   ├── base.py\n",
        "│   │   ├── image_converter.py\n",
        "│   │   ├── document_converter.py\n",
        "│   │   ├── audio_converter.py\n",
        "│   │   └── video_converter.py\n",
        "│   └── ui.py\n",
        "├── main.py\n",
        "├── requirements.txt\n",
        "└── setup.py\n",
        "\n",
        "```"
      ],
      "metadata": {
        "id": "V366Bgi2lHOo"
      }
    },
    {
      "cell_type": "code",
      "execution_count": null,
      "metadata": {
        "colab": {
          "base_uri": "https://localhost:8080/"
        },
        "id": "XmR-vqCtkhja",
        "outputId": "6e0384f4-b124-4b92-912a-d80573aa4d72"
      },
      "outputs": [
        {
          "name": "stdout",
          "output_type": "stream",
          "text": [
            "Enter the path of the file to convert: /content/A starry night sky and a full moon over a snowy ci.webp\n"
          ]
        }
      ],
      "source": [
        "# asking the file location from user\n",
        "inputFilePath = input(\"Enter the path of the file to convert: \")\n",
        "\n",
        "# detecting file extension\n",
        "splittedPath = inputFilePath.split(\".\")\n",
        "inputFileExtension = splittedPath[1]"
      ]
    },
    {
      "cell_type": "code",
      "source": [
        "print(inputFileExtension)"
      ],
      "metadata": {
        "colab": {
          "base_uri": "https://localhost:8080/"
        },
        "id": "0S8C7ij9yc01",
        "outputId": "c472dffd-523d-40e9-c8ab-5ab6d6d74c14"
      },
      "execution_count": null,
      "outputs": [
        {
          "output_type": "stream",
          "name": "stdout",
          "text": [
            "webp\n"
          ]
        }
      ]
    },
    {
      "cell_type": "code",
      "source": [
        "# List of image formats\n",
        "imageFormats = [\"png\", \"jpg\", \"jpeg\", \"gif\", \"tiff\", \"tif\", \"bmp\", \"webp\"]\n",
        "docFormats = [\"docx\", \"doc\", \"pdf\", \"docm\", \"txt\", \"odt\", \"rtf\", \"ppt\", \"pptx\", \"odp\"]\n",
        "audioFormats = [\"mp3\", \"wav\", \"ogg\", \"flac\", \"m4a\", \"wma\", \"aac\"]\n",
        "videoFormats = [\"mp4\", \"avi\", \"mkv\", \"mov\", \"wmv\", \"flv\", \"webm\"]\n",
        "# TODO: data file extensions like xls, xlsx, csv, json, ..."
      ],
      "metadata": {
        "id": "RDRKfLNW4wU-"
      },
      "execution_count": null,
      "outputs": []
    },
    {
      "cell_type": "code",
      "source": [
        "fileGroups = {\n",
        "  \"image\": imageFormats,\n",
        "  \"document\": docFormats,\n",
        "  \"audio\": audioFormats,\n",
        "  \"video\": videoFormats\n",
        "}"
      ],
      "metadata": {
        "id": "EPq01mIMcitO"
      },
      "execution_count": null,
      "outputs": []
    },
    {
      "cell_type": "code",
      "source": [
        "def groupify(fileGroups, inputFileExtension, group):\n",
        "  \"\"\"\n",
        "  This function takes the input file extension and group and creates\n",
        "  the suitable destination file extension list\n",
        "  \"\"\"\n",
        "  destinationGroup = fileGroups[group].copy()\n",
        "  destinationGroup.remove(inputFileExtension)\n",
        "  return destinationGroup"
      ],
      "metadata": {
        "id": "2sQtLWIfaecQ"
      },
      "execution_count": null,
      "outputs": []
    },
    {
      "cell_type": "code",
      "source": [
        "# fileExtension in imageFormats\n",
        "# Group file extension into its own group, e.g. image, video, doc, etc\n",
        "# group = \"image\"\n",
        "# initializing group\n",
        "\n",
        "group = \"\"\n",
        "destinationGroup = \"\"\n",
        "\n",
        "if inputFileExtension in imageFormats:\n",
        "  inputGroup = \"image\"\n",
        "  destinationGroup = groupify(fileGroups, inputFileExtension, inputGroup)\n",
        "elif inputFileExtension in docFormats:\n",
        "  inputGroup = \"document\"\n",
        "  destinationGroup = groupify(fileGroups, inputFileExtension, inputGroup)\n",
        "elif inputFileExtension in audioFormats:\n",
        "  inputGroup = \"audio\"\n",
        "  destinationGroup = groupify(fileGroups, inputFileExtension, inputGroup)\n",
        "elif inputFileExtension in videoFormats:\n",
        "  inputGroup = \"video\"\n",
        "  destinationGroup = groupify(fileGroups, inputFileExtension, inputGroup)\n",
        "else:\n",
        "\tprint(\"File type not supported.\")\n",
        "\n",
        "print(f\"Group: {inputGroup}\")\n",
        "print(f\"Destination Group: {destinationGroup}\")"
      ],
      "metadata": {
        "colab": {
          "base_uri": "https://localhost:8080/"
        },
        "id": "ZOX9OEX2Ulfj",
        "outputId": "1d255eef-ce46-49a8-9b8b-5bafcf512298"
      },
      "execution_count": null,
      "outputs": [
        {
          "output_type": "stream",
          "name": "stdout",
          "text": [
            "Group: image\n",
            "Destination Group: ['png', 'jpg', 'jpeg', 'gif', 'tiff', 'tif', 'bmp']\n"
          ]
        }
      ]
    },
    {
      "cell_type": "code",
      "source": [
        "# Asking user to choose the output file format\n",
        "print(\"Select the format you would like to convert to: \")\n",
        "\n",
        "for i, extension in enumerate(destinationGroup):\n",
        "  print(f\"{i+1}. {extension}\")\n",
        "\n",
        "selectedFormatIndex = int(input(\"\\nSelect an option: \"))"
      ],
      "metadata": {
        "colab": {
          "base_uri": "https://localhost:8080/"
        },
        "id": "bUR8jXhAGO78",
        "outputId": "81779102-a3e3-454f-8596-2f0069b765f7"
      },
      "execution_count": null,
      "outputs": [
        {
          "name": "stdout",
          "output_type": "stream",
          "text": [
            "Select the format you would like to convert to: \n",
            "1. png\n",
            "2. jpg\n",
            "3. jpeg\n",
            "4. gif\n",
            "5. tiff\n",
            "6. tif\n",
            "7. bmp\n",
            "\n",
            "Select an option: 2\n"
          ]
        }
      ]
    },
    {
      "cell_type": "code",
      "source": [
        "selectedFormat = destinationGroup[selectedFormatIndex]\n",
        "print(f\"Selected format: {selectedFormat}\")"
      ],
      "metadata": {
        "colab": {
          "base_uri": "https://localhost:8080/"
        },
        "id": "LUF0Mw_rHQZR",
        "outputId": "25f536ff-a2ea-484f-d595-aced4277620a"
      },
      "execution_count": null,
      "outputs": [
        {
          "output_type": "stream",
          "name": "stdout",
          "text": [
            "Selected format: jpeg\n"
          ]
        }
      ]
    },
    {
      "cell_type": "code",
      "source": [
        "from PIL import Image\n",
        "\n",
        "def image_converter(input_path, output_path, extension):\n",
        "    \"\"\"\n",
        "    Opens an image from `input_path` and saves it as the desired format to `output_path`. The function also asks for desired extension.\n",
        "    \"\"\"\n",
        "    with Image.open(input_path) as img:\n",
        "        img.save(output_path, format=extension.upper())\n",
        "\n",
        "# Example usage:\n",
        "# image_converter(\"path/to/your/image.jpg\", \"path/to/your/\", \"png\")\n"
      ],
      "metadata": {
        "id": "2YXcuVMzIu3P"
      },
      "execution_count": null,
      "outputs": []
    },
    {
      "cell_type": "code",
      "source": [
        "outputFilePath = input(\"Enter the path to save the converted file: \")\n",
        "# \"D:/Images\"\n",
        "\n",
        "# TODO:\n",
        "# 1. Let user choose between saving to default location or specific location\n",
        "# 2. Use the function and convert to desired format\n",
        "# 3. Save the output file"
      ],
      "metadata": {
        "id": "53j9B_SxLTAa"
      },
      "execution_count": null,
      "outputs": []
    },
    {
      "cell_type": "code",
      "source": [
        "# TODO:\n",
        "# 2. search and find file converter package/s\n",
        "# 3. begin by implementing the converter for images"
      ],
      "metadata": {
        "id": "wWcwJRkkZ_j8"
      },
      "execution_count": null,
      "outputs": []
    },
    {
      "cell_type": "code",
      "source": [
        "# Image: PIL\n",
        "# Audio: pydub\n",
        "# Video: ffmpeg\n",
        "# Document: `pdf2docx`, `docx`, `python-docx`, PyMuPDF"
      ],
      "metadata": {
        "id": "1FM__5vX9rF0"
      },
      "execution_count": null,
      "outputs": []
    },
    {
      "cell_type": "markdown",
      "source": [
        "Document Conversion (PDF, Word, etc.)\n",
        "| Format      | Recommended Packages                   | Description                                      |\n",
        "| ----------- | -------------------------------------- | ------------------------------------------------ |\n",
        "| PDF ↔ DOCX  | `pdf2docx`, `docx`, `python-docx`      | Convert PDFs to Word documents and vice versa.   |\n",
        "| Any → PDF   | `reportlab`, `xhtml2pdf`, `weasyprint` | Generate PDFs from various formats (HTML, text). |\n",
        "| Word → PDF  | `comtypes.client` (Windows only)       | MS Word automation via COM (Windows only).       |\n",
        "| OCR Support | `pytesseract`, `pdfplumber`            | Extract text from scanned PDFs and images.       |\n",
        "\n",
        "\n",
        "Image Conversion (JPG, PNG, GIF, etc.)\n",
        "| Format                | Recommended Packages | Description                                       |\n",
        "| --------------------- | -------------------- | ------------------------------------------------- |\n",
        "| General Image Formats | `Pillow` (PIL)       | Convert and process images (JPG, PNG, BMP, etc.). |\n",
        "| GIF (animated/static) | `imageio`, `Pillow`  | Read/write GIFs including animations.             |\n",
        "| HEIC/HEIF             | `pyheif`             | For HEIF image support (iOS formats).             |\n",
        "\n",
        "Audio Conversion (MP3, WAV, etc.)\n",
        "| Format           | Recommended Packages     | Description                               |\n",
        "| ---------------- | ------------------------ | ----------------------------------------- |\n",
        "| Audio Conversion | `pydub`, `ffmpeg-python` | Convert between MP3, WAV, FLAC, AAC, etc. |\n",
        "| Metadata Editing | `mutagen`                | Edit metadata for MP3s and other formats. |\n",
        "\n",
        "Video Conversion (MP4, MOV, AVI, etc.)\n",
        "| Format           | Recommended Packages                        | Description                                   |\n",
        "| ---------------- | ------------------------------------------- | --------------------------------------------- |\n",
        "| Video Processing | `moviepy`, `ffmpeg-python`, `opencv-python` | Convert and process video files.              |\n",
        "| Transcoding      | `ffmpeg-python`                             | Wraps FFmpeg for format and codec conversion. |\n",
        "\n",
        "Archive/Compression Handling\n",
        "| Format       | Recommended Packages          | Description                           |\n",
        "| ------------ | ----------------------------- | ------------------------------------- |\n",
        "| ZIP, RAR, 7Z | `pyzipper`, `patool`, `py7zr` | Extract and convert compressed files. |\n",
        "\n",
        "Universal Tooling (Multiple Types)\n",
        "| Use                   | Recommended Packages                | Description                                    |\n",
        "| --------------------- | ----------------------------------- | ---------------------------------------------- |\n",
        "| File format detection | `python-magic`, `filetype`          | Auto-detect file type regardless of extension. |\n",
        "| Drag/drop UI          | `Tkinter`, `PyQt5`, `customtkinter` | Build a GUI for selecting/converting files.    |\n",
        "| CLI Tool              | `argparse`, `click`, `typer`        | Allow command-line usage for your converter.   |\n"
      ],
      "metadata": {
        "id": "ddbMAZ70CaiJ"
      }
    }
  ]
}