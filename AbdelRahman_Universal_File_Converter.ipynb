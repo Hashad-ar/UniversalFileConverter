{
  "nbformat": 4,
  "nbformat_minor": 0,
  "metadata": {
    "colab": {
      "provenance": [],
      "include_colab_link": true
    },
    "kernelspec": {
      "name": "python3",
      "display_name": "Python 3"
    },
    "language_info": {
      "name": "python"
    }
  },
  "cells": [
    {
      "cell_type": "markdown",
      "metadata": {
        "id": "view-in-github",
        "colab_type": "text"
      },
      "source": [
        "<a href=\"https://colab.research.google.com/github/Hashad-ar/UniversalFileConverter/blob/main/AbdelRahman_Universal_File_Converter.ipynb\" target=\"_parent\"><img src=\"https://colab.research.google.com/assets/colab-badge.svg\" alt=\"Open In Colab\"/></a>"
      ]
    },
    {
      "cell_type": "code",
      "source": [
        "# !pip install gdown\n",
        "!gdown --id 1wsCS6P_ypt0QJ4I21lyBkNee6GR5_aqI\n",
        "!apt-get install unrar\n",
        "!unrar x \"/content/Universal File Converter.rar\""
      ],
      "metadata": {
        "colab": {
          "base_uri": "https://localhost:8080/"
        },
        "id": "l2t9WRNvGBYE",
        "outputId": "9be29962-6668-4bca-8dda-4790b125003c"
      },
      "execution_count": null,
      "outputs": [
        {
          "output_type": "stream",
          "name": "stdout",
          "text": [
            "Requirement already satisfied: gdown in /usr/local/lib/python3.11/dist-packages (5.2.0)\n",
            "Requirement already satisfied: beautifulsoup4 in /usr/local/lib/python3.11/dist-packages (from gdown) (4.13.4)\n",
            "Requirement already satisfied: filelock in /usr/local/lib/python3.11/dist-packages (from gdown) (3.18.0)\n",
            "Requirement already satisfied: requests[socks] in /usr/local/lib/python3.11/dist-packages (from gdown) (2.32.3)\n",
            "Requirement already satisfied: tqdm in /usr/local/lib/python3.11/dist-packages (from gdown) (4.67.1)\n",
            "Requirement already satisfied: soupsieve>1.2 in /usr/local/lib/python3.11/dist-packages (from beautifulsoup4->gdown) (2.7)\n",
            "Requirement already satisfied: typing-extensions>=4.0.0 in /usr/local/lib/python3.11/dist-packages (from beautifulsoup4->gdown) (4.13.2)\n",
            "Requirement already satisfied: charset-normalizer<4,>=2 in /usr/local/lib/python3.11/dist-packages (from requests[socks]->gdown) (3.4.2)\n",
            "Requirement already satisfied: idna<4,>=2.5 in /usr/local/lib/python3.11/dist-packages (from requests[socks]->gdown) (3.10)\n",
            "Requirement already satisfied: urllib3<3,>=1.21.1 in /usr/local/lib/python3.11/dist-packages (from requests[socks]->gdown) (2.4.0)\n",
            "Requirement already satisfied: certifi>=2017.4.17 in /usr/local/lib/python3.11/dist-packages (from requests[socks]->gdown) (2025.4.26)\n",
            "Requirement already satisfied: PySocks!=1.5.7,>=1.5.6 in /usr/local/lib/python3.11/dist-packages (from requests[socks]->gdown) (1.7.1)\n",
            "/usr/local/lib/python3.11/dist-packages/gdown/__main__.py:140: FutureWarning: Option `--id` was deprecated in version 4.3.1 and will be removed in 5.0. You don't need to pass it anymore to use a file ID.\n",
            "  warnings.warn(\n",
            "Downloading...\n",
            "From: https://drive.google.com/uc?id=1wsCS6P_ypt0QJ4I21lyBkNee6GR5_aqI\n",
            "To: /content/Universal File Converter.rar\n",
            "100% 2.66M/2.66M [00:00<00:00, 163MB/s]\n",
            "Reading package lists... Done\n",
            "Building dependency tree... Done\n",
            "Reading state information... Done\n",
            "unrar is already the newest version (1:6.1.5-1ubuntu0.1).\n",
            "0 upgraded, 0 newly installed, 0 to remove and 34 not upgraded.\n",
            "\n",
            "UNRAR 6.11 beta 1 freeware      Copyright (c) 1993-2022 Alexander Roshal\n",
            "\n",
            "\n",
            "Extracting from /content/Universal File Converter.rar\n",
            "\n",
            "Creating    Universal File Converter                                  OK\n",
            "Extracting  Universal File Converter/sample_640×426.png                  \b\b\b\b 20%\b\b\b\b\b  OK \n",
            "Extracting  Universal File Converter/sample_640×426.gif                  \b\b\b\b 27%\b\b\b\b\b  OK \n",
            "Extracting  Universal File Converter/sample_640×426.jpeg                 \b\b\b\b 30%\b\b\b\b\b  OK \n",
            "Extracting  Universal File Converter/sample_640×426.jpg                  \b\b\b\b 34%\b\b\b\b\b  OK \n",
            "Extracting  Universal File Converter/sample_640×426.bmp                  \b\b\b\b 54%\b\b\b\b\b  OK \n",
            "Extracting  Universal File Converter/sample1.webp                        \b\b\b\b 79%\b\b\b\b\b  OK \n",
            "Extracting  Universal File Converter/sample_640×426.tiff                 \b\b\b\b 99%\b\b\b\b\b  OK \n",
            "All OK\n"
          ]
        }
      ]
    },
    {
      "cell_type": "markdown",
      "source": [
        "# Project Folder Structure\n",
        "\n",
        "```\n",
        "universal_converter/\n",
        "├── converter/\n",
        "│   ├── __init__.py\n",
        "│   ├── detect.py\n",
        "│   ├── mapping.py\n",
        "│   ├── engines/\n",
        "│   │   ├── __init__.py\n",
        "│   │   ├── base.py\n",
        "│   │   ├── image_converter.py\n",
        "│   │   ├── document_converter.py\n",
        "│   │   ├── audio_converter.py\n",
        "│   │   └── video_converter.py\n",
        "│   └── ui.py\n",
        "├── main.py\n",
        "├── requirements.txt\n",
        "└── setup.py\n",
        "\n",
        "```"
      ],
      "metadata": {
        "id": "V366Bgi2lHOo"
      }
    },
    {
      "cell_type": "code",
      "execution_count": null,
      "metadata": {
        "colab": {
          "base_uri": "https://localhost:8080/"
        },
        "id": "XmR-vqCtkhja",
        "outputId": "9337ab89-a926-49ef-fa48-ac6c1ae84839"
      },
      "outputs": [
        {
          "name": "stdout",
          "output_type": "stream",
          "text": [
            "Enter the path of the file to convert: /content/Universal File Converter/sample1.webp\n"
          ]
        }
      ],
      "source": [
        "# asking the file location from user\n",
        "inputFilePath = input(\"Enter the path of the file to convert: \")\n",
        "\n",
        "# detecting file extension\n",
        "def extensionDetector(inputFilePath):\n",
        "  \"\"\"\n",
        "  This function takes the input file path and returns the file extension\n",
        "  \"\"\"\n",
        "  splittedPath = inputFilePath.split(\".\")\n",
        "  inputFileExtension = splittedPath[1]\n",
        "  return splittedPath, inputFileExtension"
      ]
    },
    {
      "cell_type": "code",
      "source": [
        "splittedPath, inputFileExtension = extensionDetector(inputFilePath)\n",
        "print(inputFileExtension)"
      ],
      "metadata": {
        "colab": {
          "base_uri": "https://localhost:8080/"
        },
        "id": "0S8C7ij9yc01",
        "outputId": "afafa2ee-af0a-40db-bad4-4bd1b39e3ec5"
      },
      "execution_count": null,
      "outputs": [
        {
          "output_type": "stream",
          "name": "stdout",
          "text": [
            "webp\n"
          ]
        }
      ]
    },
    {
      "cell_type": "code",
      "source": [
        "# List of image formats\n",
        "imageFormats = [\"png\", \"jpg\", \"jpeg\", \"gif\", \"tiff\", \"tif\", \"bmp\", \"webp\"]\n",
        "docFormats = [\"docx\", \"doc\", \"pdf\", \"docm\", \"txt\", \"odt\", \"rtf\", \"ppt\", \"pptx\", \"odp\"]\n",
        "audioFormats = [\"mp3\", \"wav\", \"ogg\", \"flac\", \"m4a\", \"wma\", \"aac\"]\n",
        "videoFormats = [\"mp4\", \"avi\", \"mkv\", \"mov\", \"wmv\", \"flv\", \"webm\"]\n",
        "# TODO: data file extensions like xls, xlsx, csv, json, ...\n",
        "\n",
        "fileGroups = {\n",
        "  \"image\": imageFormats,\n",
        "  \"document\": docFormats,\n",
        "  \"audio\": audioFormats,\n",
        "  \"video\": videoFormats\n",
        "}"
      ],
      "metadata": {
        "id": "RDRKfLNW4wU-"
      },
      "execution_count": null,
      "outputs": []
    },
    {
      "cell_type": "code",
      "source": [
        "def groupify(fileGroups, inputFileExtension, group):\n",
        "  \"\"\"\n",
        "  This function takes the input file extension and group and creates\n",
        "  the suitable destination file extension list\n",
        "  \"\"\"\n",
        "  destinationGroup = fileGroups[group].copy()\n",
        "  destinationGroup.remove(inputFileExtension)\n",
        "  return destinationGroup"
      ],
      "metadata": {
        "id": "2sQtLWIfaecQ"
      },
      "execution_count": null,
      "outputs": []
    },
    {
      "cell_type": "code",
      "source": [
        "# fileExtension in imageFormats\n",
        "# Group file extension into its own group, e.g. image, video, doc, etc\n",
        "# group = \"image\"\n",
        "# initializing group\n",
        "def mapExtensions(fileGroups, inputFileExtension):\n",
        "  \"\"\"\n",
        "  This function takes the input file extension and group and creates\n",
        "  the suitable destination file extension list\n",
        "  \"\"\"\n",
        "  group = \"\"\n",
        "  destinationGroup = \"\"\n",
        "  if inputFileExtension in imageFormats:\n",
        "    inputGroup = \"image\"\n",
        "    destinationGroup = groupify(fileGroups, inputFileExtension, inputGroup)\n",
        "  elif inputFileExtension in docFormats:\n",
        "    inputGroup = \"document\"\n",
        "    destinationGroup = groupify(fileGroups, inputFileExtension, inputGroup)\n",
        "  elif inputFileExtension in audioFormats:\n",
        "    inputGroup = \"audio\"\n",
        "    destinationGroup = groupify(fileGroups, inputFileExtension, inputGroup)\n",
        "  elif inputFileExtension in videoFormats:\n",
        "    inputGroup = \"video\"\n",
        "    destinationGroup = groupify(fileGroups, inputFileExtension, inputGroup)\n",
        "  else:\n",
        "    print(\"File type not supported.\")\n",
        "\n",
        "  print(f\"Group: {inputGroup}\")\n",
        "  print(f\"Destination Group: {destinationGroup}\")\n",
        "\n",
        "  return inputGroup, destinationGroup"
      ],
      "metadata": {
        "id": "ZOX9OEX2Ulfj"
      },
      "execution_count": null,
      "outputs": []
    },
    {
      "cell_type": "code",
      "source": [
        "inputGroup, destinationGroup = mapExtensions(fileGroups, inputFileExtension)"
      ],
      "metadata": {
        "colab": {
          "base_uri": "https://localhost:8080/"
        },
        "id": "0OvmLgLGORtK",
        "outputId": "2caad579-47a0-4ba6-f8fe-30b4f8b8919d"
      },
      "execution_count": null,
      "outputs": [
        {
          "output_type": "stream",
          "name": "stdout",
          "text": [
            "Group: image\n",
            "Destination Group: ['png', 'jpg', 'jpeg', 'gif', 'tiff', 'tif', 'bmp']\n"
          ]
        }
      ]
    },
    {
      "cell_type": "code",
      "source": [
        "# Asking user to choose the output file format\n",
        "print(\"Select the format you would like to convert to: \")\n",
        "\n",
        "for i, extension in enumerate(destinationGroup):\n",
        "  print(f\"{i+1}. {extension}\")\n",
        "\n",
        "selectedFormatIndex = int(input(\"\\nSelect an option [number]: \"))\n",
        "\n",
        "selectedFormat = destinationGroup[selectedFormatIndex - 1]\n",
        "print(f\"Selected format: {selectedFormat}\")"
      ],
      "metadata": {
        "colab": {
          "base_uri": "https://localhost:8080/"
        },
        "id": "bUR8jXhAGO78",
        "outputId": "80cd03cb-4e56-4476-a0bb-70f3015f67aa"
      },
      "execution_count": null,
      "outputs": [
        {
          "output_type": "stream",
          "name": "stdout",
          "text": [
            "Select the format you would like to convert to: \n",
            "1. png\n",
            "2. jpg\n",
            "3. jpeg\n",
            "4. gif\n",
            "5. tiff\n",
            "6. tif\n",
            "7. bmp\n",
            "\n",
            "Select an option [number]: 1\n",
            "Selected format: png\n"
          ]
        }
      ]
    },
    {
      "cell_type": "code",
      "source": [
        "from PIL import Image\n",
        "\n",
        "def image_converter(input_path, output_path, extension):\n",
        "    \"\"\"\n",
        "    Opens an image from `input_path` and saves it as the desired format to `output_path`. The function also asks for desired extension.\n",
        "    \"\"\"\n",
        "    with Image.open(input_path) as img:\n",
        "        img.save(\n",
        "        output_path,\n",
        "        format=extension,\n",
        "        quality=100,        # max quality (minimal compression)\n",
        "        subsampling=0,      # disable chroma subsampling\n",
        "        optimize=True      # try to make file smaller without quality loss\n",
        "      )\n",
        "\n",
        "# TODO:\n",
        "# 1. Update the funciton and let the user decide on the quality of the output file\n",
        "# Eithter through slider or different options\n"
      ],
      "metadata": {
        "id": "2YXcuVMzIu3P"
      },
      "execution_count": null,
      "outputs": []
    },
    {
      "cell_type": "code",
      "source": [
        "# Split the path again based on the \"/\" and grab the last part as the file name\n",
        "fileName = splittedPath[0].split(\"/\")[-1]\n",
        "\n",
        "\n",
        "# TODO:\n",
        "# 1. Create Default Path for Converted files\n",
        "# 2. Ask the user weather they want to save the converted file to default path or desired path\n",
        "\n",
        "\n",
        "# /UniversalFileConverter/ConvertedFiles/Images\n",
        "# /UniversalFileConverter/ConvertedFiles/Videos\n",
        "# /UniversalFileConverter/ConvertedFiles/Documents\n",
        "# /UniversalFileConverter/ConvertedFiles/Audio\n",
        "\n",
        "# 3. If the user selected default, using the inputGroup, save the output file into corresponding direction\n",
        "\n",
        "outputFolderPath = input(\"Enter the path to save the converted file: \")\n",
        "\n",
        "fullSavedPath = outputFolderPath + fileName + \".\" + selectedFormat\n",
        "\n",
        "# Mapping JPG to JPEG as they are both the same thing and only JPEG is accepted by PIL not JPG\n",
        "finalFormat = selectedFormat\n",
        "if selectedFormat.lower() == \"jpg\":\n",
        "  finalFormat = \"jpeg\"\n",
        "\n",
        "if selectedFormat.lower() == \"tif\":\n",
        "  finalFormat = \"tiff\"\n",
        "\n",
        "# print(fullSavedPath)\n",
        "image_converter(inputFilePath, fullSavedPath, finalFormat)\n",
        "\n",
        "print(\"File Conversion is completed!\")\n",
        "print(f\"File saved to {fullSavedPath}.\")"
      ],
      "metadata": {
        "colab": {
          "base_uri": "https://localhost:8080/"
        },
        "id": "y0PCQD0cKF2v",
        "outputId": "b1f3eed9-06bf-4e60-9902-d346a41f0e61"
      },
      "execution_count": null,
      "outputs": [
        {
          "output_type": "stream",
          "name": "stdout",
          "text": [
            "Enter the path to save the converted file: /content/\n",
            "File Conversion is completed!\n",
            "File saved to /content/sample1.png.\n"
          ]
        }
      ]
    },
    {
      "cell_type": "code",
      "source": [
        "\n",
        "# TODO:\n",
        "# 1. Test the program on all the available extenions - unittest\n",
        "#   *. Strategy: Each input image should be converted to all the available suitable file formats\n",
        "#   *. Put messages for successful or unsuccessful runs\n",
        "#   *. Use Try and Exept to handle errors and avoid crashing the program"
      ],
      "metadata": {
        "id": "53j9B_SxLTAa"
      },
      "execution_count": null,
      "outputs": []
    },
    {
      "cell_type": "code",
      "source": [
        "# Image: PIL\n",
        "# Audio: pydub\n",
        "# Video: ffmpeg\n",
        "# Document: `pdf2docx`, `docx`, `python-docx`, PyMuPDF"
      ],
      "metadata": {
        "id": "1FM__5vX9rF0"
      },
      "execution_count": null,
      "outputs": []
    },
    {
      "cell_type": "markdown",
      "source": [
        "\n",
        "\n",
        "---\n",
        "\n"
      ],
      "metadata": {
        "id": "ujZ5NE9vSnUh"
      }
    },
    {
      "cell_type": "code",
      "source": [
        "# TODO:\n",
        "# 2. search and find file converter package/s✅\n",
        "# 3. begin by implementing the converter for images✅\n",
        "# 4. Use the function and convert to desired format✅\n",
        "# 5. Save the output file✅"
      ],
      "metadata": {
        "id": "wWcwJRkkZ_j8"
      },
      "execution_count": null,
      "outputs": []
    },
    {
      "cell_type": "markdown",
      "source": [
        "\n",
        "\n",
        "---\n",
        "\n",
        "\n",
        "# Quality Testing on Images"
      ],
      "metadata": {
        "id": "DQ8XP02DJzww"
      }
    },
    {
      "cell_type": "code",
      "metadata": {
        "colab": {
          "base_uri": "https://localhost:8080/"
        },
        "id": "ad10d165",
        "outputId": "b2ea8535-64ad-461b-c2f9-6afe68c82455"
      },
      "source": [
        "# # Install scikit-image if you haven't already\n",
        "# # !pip install scikit-image\n",
        "\n",
        "# import cv2\n",
        "# from skimage.metrics import structural_similarity as ssim\n",
        "# import numpy as np\n",
        "# from PIL import Image # Import Pillow\n",
        "\n",
        "# # --- Placeholder image paths ---\n",
        "# # Replace these with the actual paths to your original and processed images\n",
        "# original_image_path = \"/content/Universal File Converter/sample1.webp\"  # Path to your original image\n",
        "# processed_image_path = \"/content/sample1.jpg\" # Path to your processed image (from previous conversion)\n",
        "# # -------------------------------\n",
        "\n",
        "# # Load the original image using Pillow and convert to NumPy array\n",
        "# try:\n",
        "#     original_image_pil = Image.open(original_image_path)\n",
        "#     # Convert to RGB to ensure consistent channel order for cv2\n",
        "#     original_image = cv2.cvtColor(np.array(original_image_pil), cv2.COLOR_RGB2BGR)\n",
        "# except FileNotFoundError:\n",
        "#     print(f\"Error: Original image not found at {original_image_path}\")\n",
        "#     original_image = None # Set to None to indicate loading failure\n",
        "# except Exception as e:\n",
        "#     print(f\"Error loading original image with Pillow: {e}\")\n",
        "#     original_image = None\n",
        "\n",
        "\n",
        "# # Load the processed image using cv2\n",
        "# processed_image = cv2.imread(processed_image_path)\n",
        "\n",
        "\n",
        "# # Check if images were loaded successfully\n",
        "# if original_image is None:\n",
        "#     print(\"Original image loading failed. Cannot proceed with SSIM calculation.\")\n",
        "# elif processed_image is None:\n",
        "#     print(f\"Error: Could not load processed image from {processed_image_path}\")\n",
        "# else:\n",
        "#     # Resize the processed image to match the original image dimensions if they are different\n",
        "#     if original_image.shape != processed_image.shape:\n",
        "#         processed_image_resized = cv2.resize(processed_image, (original_image.shape[1], original_image.shape[0]))\n",
        "#     else:\n",
        "#         processed_image_resized = processed_image # No resizing needed\n",
        "\n",
        "#     # Convert images to grayscale (SSIM is typically calculated on grayscale images)\n",
        "#     original_gray = cv2.cvtColor(original_image, cv2.COLOR_BGR2GRAY)\n",
        "#     processed_gray = cv2.cvtColor(processed_image_resized, cv2.COLOR_BGR2GRAY)\n",
        "\n",
        "#     # Compute SSIM between the two images\n",
        "#     # data_range is the range of pixel values (255 for 8-bit grayscale images)\n",
        "#     ssim_index, _ = ssim(original_gray, processed_gray, full=True, data_range=processed_gray.max() - processed_gray.min())\n",
        "\n",
        "\n",
        "#     print(f\"The Structural Similarity Index (SSIM) between the original and processed image is: {ssim_index}\")\n",
        "\n",
        "#     # You can interpret the SSIM value:\n",
        "#     # Close to 1.0: Images are very similar in structure and quality\n",
        "#     # Closer to 0: Images are less similar\n",
        "#     # Negative values: Very little similarity (unlikely for slightly processed images)\n",
        "\n",
        "#     # You can set a threshold to consider images as having \"similar quality\".\n",
        "#     # This threshold is subjective and depends on your application.\n",
        "#     # For example:\n",
        "#     # similarity_threshold = 0.9 # Example threshold\n",
        "#     # if ssim_index >= similarity_threshold:\n",
        "#     #     print(\"The images have similar quality.\")\n",
        "#     # else:\n",
        "#     #     print(\"The images do not have similar quality based on the threshold.\")"
      ],
      "execution_count": null,
      "outputs": [
        {
          "output_type": "stream",
          "name": "stdout",
          "text": [
            "Error loading original image with Pillow: could not create decoder object\n",
            "Original image loading failed. Cannot proceed with SSIM calculation.\n"
          ]
        }
      ]
    },
    {
      "cell_type": "code",
      "metadata": {
        "colab": {
          "base_uri": "https://localhost:8080/"
        },
        "id": "06c61cc6",
        "outputId": "18b57f1a-5feb-4c7e-98d1-f74338bf4039"
      },
      "source": [
        "# import os\n",
        "\n",
        "# directory_path = '/content/Universal File Converter/'\n",
        "# if os.path.exists(directory_path):\n",
        "#     print(f\"Files in {directory_path}:\")\n",
        "#     for filename in os.listdir(directory_path):\n",
        "#         print(filename)\n",
        "# else:\n",
        "#     print(f\"Directory not found: {directory_path}\")"
      ],
      "execution_count": null,
      "outputs": [
        {
          "output_type": "stream",
          "name": "stdout",
          "text": [
            "Files in /content/Universal File Converter/:\n",
            "sample_640×426.jpg\n",
            "sample1.webp\n",
            "sample_640×426.gif\n",
            "sample_640×426.tiff\n",
            "sample_640×426.jpeg\n",
            "sample_640×426.png\n",
            "sample_640×426.bmp\n"
          ]
        }
      ]
    },
    {
      "cell_type": "markdown",
      "metadata": {
        "id": "6121338f"
      },
      "source": [
        "# Task\n",
        "Perform unit tests on the `image_converter` function by converting each image file in the \"/content/Universal File Converter/\" directory to all available image formats (excluding the original format) and report the success or failure of each conversion."
      ]
    },
    {
      "cell_type": "markdown",
      "metadata": {
        "id": "294b9eae"
      },
      "source": [
        "## List image files\n",
        "\n",
        "### Subtask:\n",
        "Get a list of all image files within the `/content/Universal File Converter/` directory.\n"
      ]
    },
    {
      "cell_type": "markdown",
      "metadata": {
        "id": "0edc596b"
      },
      "source": [
        "**Reasoning**:\n",
        "List files in the specified directory and filter for image files based on their extensions.\n",
        "\n"
      ]
    },
    {
      "cell_type": "code",
      "metadata": {
        "colab": {
          "base_uri": "https://localhost:8080/"
        },
        "id": "394c918d",
        "outputId": "54696d05-10a9-4d22-ccea-7e632c0d671b"
      },
      "source": [
        "# import os\n",
        "\n",
        "# directory_path = '/content/Universal File Converter/'\n",
        "# all_entries = os.listdir(directory_path)\n",
        "\n",
        "# # Filter for files that are in imageFormats\n",
        "# image_files = [entry for entry in all_entries if os.path.isfile(os.path.join(directory_path, entry)) and entry.split('.')[-1].lower() in imageFormats]\n",
        "\n",
        "# print(\"Image files found in the directory:\")\n",
        "# for image_file in image_files:\n",
        "#     print(image_file)"
      ],
      "execution_count": null,
      "outputs": [
        {
          "output_type": "stream",
          "name": "stdout",
          "text": [
            "Image files found in the directory:\n",
            "sample_640×426.jpg\n",
            "sample1.webp\n",
            "sample_640×426.gif\n",
            "sample_640×426.tiff\n",
            "sample_640×426.jpeg\n",
            "sample_640×426.png\n",
            "sample_640×426.bmp\n"
          ]
        }
      ]
    }
  ]
}